{
 "cells": [
  {
   "cell_type": "markdown",
   "id": "3f2059eb-5218-481b-919c-464d732d196c",
   "metadata": {},
   "source": [
    "For this project, I took the spaceship Titanic dataset with no missing values from Kaggle. Then I extracted the zip file, which then formed into three csv files: sample_submission, train_with_no_missings, and test_with_no_missings. "
   ]
  },
  {
   "cell_type": "markdown",
   "id": "53fb9df7-d97b-4f69-8505-f4f0a80a6b89",
   "metadata": {},
   "source": [
    "# Objective"
   ]
  },
  {
   "cell_type": "markdown",
   "id": "47b6b053-59ef-4d19-a6aa-88c796e5cbf3",
   "metadata": {},
   "source": [
    "The main objectives of this analysis were:\n",
    "To perform data preprocessing and get it ready for model training. \n",
    "To develop a machine learning model that predicts the transported status of passengers.\n",
    "To evaluate the model using standard metrics like accuracy, precision, recall, and F1-score.\n",
    "To interpret the results and discuss potential real-world applications of the model."
   ]
  },
  {
   "cell_type": "markdown",
   "id": "86f356ba-2e38-42b1-a934-b2de684def1b",
   "metadata": {},
   "source": [
    " # 1. Import the necessary libraries"
   ]
  },
  {
   "cell_type": "code",
   "execution_count": 1,
   "id": "27bd8f85-0bed-4f00-97bc-3135afd4744d",
   "metadata": {},
   "outputs": [],
   "source": [
    "import pandas as pd\n",
    "import numpy as np\n",
    "import matplotlib.pyplot as plt\n",
    "import seaborn as sns\n",
    "from sklearn.model_selection import train_test_split\n",
    "from sklearn.ensemble import RandomForestClassifier\n",
    "from sklearn.metrics import accuracy_score, classification_report, confusion_matrix\n"
   ]
  },
  {
   "cell_type": "markdown",
   "id": "4b1fcb19-6d42-4dca-af08-9ad3979bad4f",
   "metadata": {},
   "source": [
    "# 2. Load and Inspect data"
   ]
  },
  {
   "cell_type": "code",
   "execution_count": 37,
   "id": "891ad9ad-19b0-4c11-96cc-47008625bb17",
   "metadata": {},
   "outputs": [
    {
     "name": "stdout",
     "output_type": "stream",
     "text": [
      "Train Data:\n",
      "  PassengerId HomePlanet  CryoSleep  Destination   Age    VIP  RoomService  \\\n",
      "0     0001_01     Europa      False  TRAPPIST-1e  39.0  False          0.0   \n",
      "1     0002_01      Earth      False  TRAPPIST-1e  24.0  False        109.0   \n",
      "2     0003_01     Europa      False  TRAPPIST-1e  58.0   True         43.0   \n",
      "3     0003_02     Europa      False  TRAPPIST-1e  33.0  False          0.0   \n",
      "4     0004_01      Earth      False  TRAPPIST-1e  16.0  False        303.0   \n",
      "\n",
      "   FoodCourt  ShoppingMall     Spa  VRDeck  Transported Deck  Cabin_num Side  \\\n",
      "0        0.0           0.0     0.0     0.0        False    B          0    P   \n",
      "1        9.0          25.0   549.0    44.0         True    F          0    S   \n",
      "2     3576.0           0.0  6715.0    49.0        False    A          0    S   \n",
      "3     1283.0         371.0  3329.0   193.0        False    A          0    S   \n",
      "4       70.0         151.0   565.0     2.0         True    F          1    S   \n",
      "\n",
      "   Group  Group_num       Family  \n",
      "0      1          1    Ofracculy  \n",
      "1      2          1        Vines  \n",
      "2      3          1       Susent  \n",
      "3      3          2       Susent  \n",
      "4      4          1  Santantines  \n",
      "<class 'pandas.core.frame.DataFrame'>\n",
      "RangeIndex: 8693 entries, 0 to 8692\n",
      "Data columns (total 18 columns):\n",
      " #   Column        Non-Null Count  Dtype  \n",
      "---  ------        --------------  -----  \n",
      " 0   PassengerId   8693 non-null   object \n",
      " 1   HomePlanet    8693 non-null   object \n",
      " 2   CryoSleep     8693 non-null   bool   \n",
      " 3   Destination   8693 non-null   object \n",
      " 4   Age           8693 non-null   float64\n",
      " 5   VIP           8693 non-null   bool   \n",
      " 6   RoomService   8693 non-null   float64\n",
      " 7   FoodCourt     8693 non-null   float64\n",
      " 8   ShoppingMall  8693 non-null   float64\n",
      " 9   Spa           8693 non-null   float64\n",
      " 10  VRDeck        8693 non-null   float64\n",
      " 11  Transported   8693 non-null   bool   \n",
      " 12  Deck          8693 non-null   object \n",
      " 13  Cabin_num     8693 non-null   int64  \n",
      " 14  Side          8693 non-null   object \n",
      " 15  Group         8693 non-null   int64  \n",
      " 16  Group_num     8693 non-null   int64  \n",
      " 17  Family        8693 non-null   object \n",
      "dtypes: bool(3), float64(6), int64(3), object(6)\n",
      "memory usage: 1.0+ MB\n",
      "None\n",
      "\n",
      "Test Data:\n",
      "  PassengerId HomePlanet  CryoSleep  Destination   Age    VIP  RoomService  \\\n",
      "0     0013_01      Earth       True  TRAPPIST-1e  27.0  False          0.0   \n",
      "1     0018_01      Earth      False  TRAPPIST-1e  19.0  False          0.0   \n",
      "2     0019_01     Europa       True  55 Cancri e  31.0  False          0.0   \n",
      "3     0021_01     Europa      False  TRAPPIST-1e  38.0  False          0.0   \n",
      "4     0023_01      Earth      False  TRAPPIST-1e  20.0  False         10.0   \n",
      "\n",
      "   FoodCourt  ShoppingMall     Spa  VRDeck  Transported Deck  Cabin_num Side  \\\n",
      "0        0.0           0.0     0.0     0.0          NaN    G          3    S   \n",
      "1        9.0           0.0  2823.0     0.0          NaN    F          4    S   \n",
      "2        0.0           0.0     0.0     0.0          NaN    C          0    S   \n",
      "3     6652.0           0.0   181.0   585.0          NaN    C          1    S   \n",
      "4        0.0         635.0     0.0     0.0          NaN    F          5    S   \n",
      "\n",
      "   Group  Group_num     Family  \n",
      "0     13          1  Carsoning  \n",
      "1     18          1    Peckers  \n",
      "2     19          1  Unhearfus  \n",
      "3     21          1  Caltilter  \n",
      "4     23          1   Harperez  \n",
      "<class 'pandas.core.frame.DataFrame'>\n",
      "RangeIndex: 4277 entries, 0 to 4276\n",
      "Data columns (total 18 columns):\n",
      " #   Column        Non-Null Count  Dtype  \n",
      "---  ------        --------------  -----  \n",
      " 0   PassengerId   4277 non-null   object \n",
      " 1   HomePlanet    4277 non-null   object \n",
      " 2   CryoSleep     4277 non-null   bool   \n",
      " 3   Destination   4277 non-null   object \n",
      " 4   Age           4277 non-null   float64\n",
      " 5   VIP           4277 non-null   bool   \n",
      " 6   RoomService   4277 non-null   float64\n",
      " 7   FoodCourt     4277 non-null   float64\n",
      " 8   ShoppingMall  4277 non-null   float64\n",
      " 9   Spa           4277 non-null   float64\n",
      " 10  VRDeck        4277 non-null   float64\n",
      " 11  Transported   0 non-null      float64\n",
      " 12  Deck          4277 non-null   object \n",
      " 13  Cabin_num     4277 non-null   int64  \n",
      " 14  Side          4277 non-null   object \n",
      " 15  Group         4277 non-null   int64  \n",
      " 16  Group_num     4277 non-null   int64  \n",
      " 17  Family        4277 non-null   object \n",
      "dtypes: bool(2), float64(7), int64(3), object(6)\n",
      "memory usage: 543.1+ KB\n",
      "None\n"
     ]
    }
   ],
   "source": [
    "# Load datasets\n",
    "train_data = pd.read_csv(\"C:\\\\Users\\\\apoor\\\\Downloads\\\\archive (4)\\\\train_with_no_missings.csv\")\n",
    "test_data = pd.read_csv(\"C:\\\\Users\\\\apoor\\\\Downloads\\\\archive (4)\\\\test_with_no_missings.csv\")\n",
    "sample_submission = pd.read_csv(\"C:\\\\Users\\\\apoor\\\\Downloads\\\\archive (4)\\\\sample_submission.csv\")\n",
    "\n",
    "# Preview the datasets\n",
    "print(\"Train Data:\")\n",
    "print(train_data.head())\n",
    "print(train_data.info())\n",
    "print(\"\\nTest Data:\")\n",
    "print(test_data.head())\n",
    "print(test_data.info())\n"
   ]
  },
  {
   "cell_type": "markdown",
   "id": "032e0b2e-6954-44e9-9c86-54d8f4eb274f",
   "metadata": {},
   "source": [
    "# 3. Data Preprocessing"
   ]
  },
  {
   "cell_type": "markdown",
   "id": "0d44ebd0-d228-442c-9f1d-c6454d3a7d1f",
   "metadata": {},
   "source": [
    "# Encoding categorical variables"
   ]
  },
  {
   "cell_type": "code",
   "execution_count": 39,
   "id": "a5a35ae8-f75a-4e58-9c1c-1a59295a8c30",
   "metadata": {},
   "outputs": [
    {
     "name": "stdout",
     "output_type": "stream",
     "text": [
      "Categorical columns: Index(['PassengerId', 'HomePlanet', 'Destination', 'Deck', 'Side', 'Family'], dtype='object')\n"
     ]
    }
   ],
   "source": [
    "# Identify categorical columns\n",
    "categorical_cols = train_data.select_dtypes(include=['object']).columns\n",
    "print(\"Categorical columns:\", categorical_cols)\n",
    "\n",
    "# Perform one-hot encoding\n",
    "train_data_encoded = pd.get_dummies(train_data, columns=categorical_cols, drop_first=True)\n"
   ]
  },
  {
   "cell_type": "code",
   "execution_count": 41,
   "id": "2652d176-daaf-438a-9374-f2f2a8f967af",
   "metadata": {},
   "outputs": [
    {
     "name": "stdout",
     "output_type": "stream",
     "text": [
      "Train Data Columns: Index(['HomePlanet', 'CryoSleep', 'Destination', 'Age', 'VIP', 'RoomService',\n",
      "       'FoodCourt', 'ShoppingMall', 'Spa', 'VRDeck', 'Transported', 'Deck',\n",
      "       'Cabin_num', 'Side', 'Group', 'Group_num', 'Family'],\n",
      "      dtype='object')\n",
      "Test Data Columns: Index(['HomePlanet', 'CryoSleep', 'Destination', 'Age', 'VIP', 'RoomService',\n",
      "       'FoodCourt', 'ShoppingMall', 'Spa', 'VRDeck', 'Transported', 'Deck',\n",
      "       'Cabin_num', 'Side', 'Group', 'Group_num', 'Family'],\n",
      "      dtype='object')\n"
     ]
    }
   ],
   "source": [
    "# Drop PassengerId as it’s not predictive\n",
    "train_data = train_data.drop(columns=['PassengerId'])\n",
    "test_data = test_data.drop(columns=['PassengerId'])\n",
    "\n",
    "# Display basic info\n",
    "print(\"Train Data Columns:\", train_data.columns)\n",
    "print(\"Test Data Columns:\", test_data.columns)\n"
   ]
  },
  {
   "cell_type": "markdown",
   "id": "275fe9d9-f089-4fea-87a8-09a682de9381",
   "metadata": {},
   "source": [
    "# One-Hot Encoding"
   ]
  },
  {
   "cell_type": "code",
   "execution_count": 45,
   "id": "6d9e686f-31a9-4c07-85a8-55599c31e69f",
   "metadata": {},
   "outputs": [],
   "source": [
    "# Apply one-hot encoding to the test data (if columns are aligned)\n",
    "test_data_encoded = pd.get_dummies(test_data, columns=['HomePlanet', 'Destination', 'Deck', 'Side', 'Family'], drop_first=True)\n",
    "\n",
    "# Align columns between train and test datasets\n",
    "test_data_encoded = test_data_encoded.reindex(columns=train_data_encoded.columns, fill_value=0)\n",
    "\n"
   ]
  },
  {
   "cell_type": "markdown",
   "id": "79cced4c-4a3a-43d2-954f-93d4c1f7c362",
   "metadata": {},
   "source": [
    "# Split features and target"
   ]
  },
  {
   "cell_type": "code",
   "execution_count": 49,
   "id": "128846df-4c93-4f27-9217-658b62a284be",
   "metadata": {},
   "outputs": [
    {
     "name": "stdout",
     "output_type": "stream",
     "text": [
      "X_train Shape: (8693, 16)\n",
      "y_train Shape: (8693,)\n",
      "X_test Shape: (4277, 17)\n"
     ]
    }
   ],
   "source": [
    "# Separate features (X) and target (y)\n",
    "X_train = train_data.drop(columns=['Transported'])\n",
    "y_train = train_data['Transported']\n",
    "\n",
    "# Test data contains only features\n",
    "X_test = test_data\n",
    "\n",
    "# Print shapes for verification\n",
    "print(\"X_train Shape:\", X_train.shape)\n",
    "print(\"y_train Shape:\", y_train.shape)\n",
    "print(\"X_test Shape:\", X_test.shape)\n"
   ]
  },
  {
   "cell_type": "markdown",
   "id": "a8856e79-1c02-458a-8abd-42383ad47bf7",
   "metadata": {},
   "source": [
    "# Train test Split"
   ]
  },
  {
   "cell_type": "code",
   "execution_count": 51,
   "id": "39ec4e67-7c0e-4f1b-9a8c-b3e64693f1e8",
   "metadata": {},
   "outputs": [
    {
     "name": "stdout",
     "output_type": "stream",
     "text": [
      "X_train Shape: (6954, 16)\n",
      "X_val Shape: (1739, 16)\n",
      "y_train Shape: (6954,)\n",
      "y_val Shape: (1739,)\n"
     ]
    }
   ],
   "source": [
    "from sklearn.model_selection import train_test_split\n",
    "\n",
    "# Define features (X) and target (y)\n",
    "X = train_data.drop(columns=['Transported'])  # Drop the target column\n",
    "y = train_data['Transported']  # Define the target column\n",
    "\n",
    "# Split data into training and validation sets (80% train, 20% validation)\n",
    "X_train, X_val, y_train, y_val = train_test_split(X, y, test_size=0.2, random_state=42)\n",
    "\n",
    "# Check the shapes of the resulting datasets\n",
    "print(\"X_train Shape:\", X_train.shape)\n",
    "print(\"X_val Shape:\", X_val.shape)\n",
    "print(\"y_train Shape:\", y_train.shape)\n",
    "print(\"y_val Shape:\", y_val.shape)\n"
   ]
  },
  {
   "cell_type": "markdown",
   "id": "7419a96d-1000-4947-8808-810caf4976ae",
   "metadata": {},
   "source": [
    "# 4. Model Implementation"
   ]
  },
  {
   "cell_type": "code",
   "execution_count": 21,
   "id": "3386e226-5296-4694-9c54-b2f087e427f9",
   "metadata": {},
   "outputs": [
    {
     "name": "stdout",
     "output_type": "stream",
     "text": [
      "Accuracy: 0.79700977573318\n",
      "Classification Report:\n",
      "               precision    recall  f1-score   support\n",
      "\n",
      "       False       0.78      0.83      0.80       861\n",
      "        True       0.82      0.77      0.79       878\n",
      "\n",
      "    accuracy                           0.80      1739\n",
      "   macro avg       0.80      0.80      0.80      1739\n",
      "weighted avg       0.80      0.80      0.80      1739\n",
      "\n"
     ]
    }
   ],
   "source": [
    "from sklearn.ensemble import RandomForestClassifier\n",
    "\n",
    "# Initialize the RandomForest model\n",
    "model = RandomForestClassifier(random_state=42)\n",
    "\n",
    "# Train the model on the training data\n",
    "model.fit(X_train, y_train)\n",
    "\n",
    "# Evaluate the model on the validation data\n",
    "y_val_pred = model.predict(X_val)\n",
    "\n",
    "# Evaluate the performance\n",
    "from sklearn.metrics import accuracy_score, classification_report\n",
    "\n",
    "print(\"Accuracy:\", accuracy_score(y_val, y_val_pred))\n",
    "print(\"Classification Report:\\n\", classification_report(y_val, y_val_pred))\n"
   ]
  },
  {
   "cell_type": "markdown",
   "id": "fd0c07b8-50b7-4990-9ee5-4c108270aebb",
   "metadata": {},
   "source": [
    "# 5. Model Evaluation and visualization of results"
   ]
  },
  {
   "cell_type": "code",
   "execution_count": 23,
   "id": "44798117-7051-42b8-946f-9c24e333062f",
   "metadata": {},
   "outputs": [
    {
     "name": "stdout",
     "output_type": "stream",
     "text": [
      "Validation Accuracy: 0.79700977573318\n",
      "Classification Report:\n",
      "               precision    recall  f1-score   support\n",
      "\n",
      "       False       0.78      0.83      0.80       861\n",
      "        True       0.82      0.77      0.79       878\n",
      "\n",
      "    accuracy                           0.80      1739\n",
      "   macro avg       0.80      0.80      0.80      1739\n",
      "weighted avg       0.80      0.80      0.80      1739\n",
      "\n"
     ]
    },
    {
     "data": {
      "image/png": "[encoded data removed]",
      "text/plain": [
       "<Figure size 640x480 with 2 Axes>"
      ]
     },
     "metadata": {},
     "output_type": "display_data"
    }
   ],
   "source": [
    "y_val_pred = model.predict(X_val)\n",
    "\n",
    "# Accuracy and Classification Report\n",
    "print(\"Validation Accuracy:\", accuracy_score(y_val, y_val_pred))\n",
    "print(\"Classification Report:\\n\", classification_report(y_val, y_val_pred))\n",
    "\n",
    "# Confusion Matrix\n",
    "conf_matrix = confusion_matrix(y_val, y_val_pred)\n",
    "sns.heatmap(conf_matrix, annot=True, fmt='d', cmap='Blues')\n",
    "plt.title(\"Confusion Matrix\")\n",
    "plt.show()\n"
   ]
  },
  {
   "cell_type": "markdown",
   "id": "03d1858e-aad8-4987-99f7-9ec95d2e13db",
   "metadata": {},
   "source": [
    "# 6. Report writing"
   ]
  },
  {
   "cell_type": "markdown",
   "id": "ad869f03-2f0c-4710-b6c5-8db5b4b6a9d2",
   "metadata": {},
   "source": [
    "This project focuses on creating a predictive model to determine whether passengers were transported during a space journey, based on various features such as their home planet, spending on services, and other attributes. The goal was to build a machine learning model that could accurately predict the transport status of passengers, providing insights into the factors affecting transportation.\n"
   ]
  },
  {
   "cell_type": "markdown",
   "id": "1b5ed42c-1622-42d8-8dc5-5d581cf2da4b",
   "metadata": {},
   "source": [
    "# Findings and Conclusions"
   ]
  },
  {
   "cell_type": "markdown",
   "id": "e51642be-f4cc-40df-8b80-af8b51037f7c",
   "metadata": {},
   "source": [
    "1. # Dataset Overview:\n",
    "The dataset consisted of 8,693 training instances with 18 features, and 4,277 test instances. The target variable, Transported, indicates whether a passenger was transported or not.\n",
    "The dataset had no missing values, simplifying preprocessing.\n",
    "\n",
    "Categorical features such as Home Planet, Destination, Deck, Side, and Family were encoded using one-hot encoding to convert them into numerical format, making them suitable for machine learning algorithms.\n",
    "Irrelevant columns like PassengerId were removed since they didn’t contribute to predictions.\n",
    "# 2. Data split: \n",
    "The dataset was split into 80% training data (6,954 samples) and 20% validation data (1,739 samples) to train and evaluate the model effectively.\n",
    "# 3. Model Building :\n",
    "A Random Forest Classifier was used to model the data because it is robust and handles both categorical and numerical features well. The steps followed for model building were:\n",
    "# Model Training: \n",
    "The model was trained using the training dataset with default hyperparameters (n_estimators=100 and random_state=42).\n",
    "# Model Evaluation: \n",
    "After training, the model’s performance was evaluated on the validation set using common classification metrics such as accuracy, precision, recall, and F1-score.\n",
    "# Results\n",
    "The Random Forest Classifier was evaluated with the following metrics:\n",
    "Validation Accuracy: 79.7%.\n",
    "This indicates that the model correctly predicted the transport status of approximately 80% of the validation data.\n",
    "Classification Metrics:\n",
    "Not Transported (Class 0):\n",
    "Precision: 78%\n",
    "Recall: 83%\n",
    "F1-Score: 80%\n",
    "Transported (Class 1):\n",
    "Precision: 82%\n",
    "Recall: 77%\n",
    "F1-Score: 79%\n",
    "# Visulaization: Confusion Matrix:\n",
    "The confusion matrix revealed that the model performed better at predicting the \"Not Transported\" class (higher recall), while the \"Transported\" class had a slightly lower recall.\n"
   ]
  },
  {
   "cell_type": "markdown",
   "id": "304fcf8f-4ed0-490c-a91f-bd67598d5e3b",
   "metadata": {},
   "source": [
    "# Real world implications"
   ]
  },
  {
   "cell_type": "markdown",
   "id": "6c5cac89-5231-4701-9169-c13eb0f67477",
   "metadata": {},
   "source": [
    "This model could have several practical applications:\n",
    "\n",
    "Optimizing Resources: The ability to predict which passengers are more likely to be transported could assist in planning resources and managing logistics.\n",
    "Improving Customer Experience: Passengers who are predicted to be transported could be offered additional services based on their profiles, enhancing the customer experience."
   ]
  },
  {
   "cell_type": "markdown",
   "id": "dc85e301-22ac-4239-bea0-f07576acad96",
   "metadata": {},
   "source": [
    "# Conclusion"
   ]
  },
  {
   "cell_type": "markdown",
   "id": "31eee0e6-94c4-400b-885d-080f54ba9bbe",
   "metadata": {},
   "source": [
    "The Random Forest Classifier performed well with an accuracy of 79.7%. While the model was generally accurate, there is room for improvement in recall for the \"Transported\" class. Future improvements could focus on hyperparameter tuning, class balancing, and exploring alternative algorithms to enhance model performance.\n",
    "\n"
   ]
  },
  {
   "cell_type": "markdown",
   "id": "70d637f6-956a-427f-95e8-aa4618de65e6",
   "metadata": {},
   "source": [
    "# references"
   ]
  },
  {
   "cell_type": "markdown",
   "id": "e85f51c5-6b21-44b7-ac13-33df70f7ef72",
   "metadata": {},
   "source": [
    "For machine learning algorithms and evaluation metrics:\n",
    "Random Forest Classifier: https://scikit-learn.org/stable/modules/generated/sklearn.ensemble.RandomForestClassifier.html\n",
    "Model Evaluation Metrics: https://scikit-learn.org/stable/modules/model_evaluation.html\n",
    "Pandas Documentation:\n",
    "For data manipulation, including handling missing data and one-hot encoding:\n",
    "https://pandas.pydata.org/pandas-docs/stable/\n",
    "Python machine learning blogs and articles:\n",
    "Understanding Random Forest: https://towardsdatascience.com/random-forest-in-python-24d36f2f48ed\n",
    "Gen AI tools :\n",
    "OpenAI chatgpt "
   ]
  },
  {
   "cell_type": "markdown",
   "id": "f11002ff-9323-4276-bd5a-67aa7df6e63a",
   "metadata": {},
   "source": [
    "# Reflection"
   ]
  },
  {
   "cell_type": "markdown",
   "id": "7d491b24-6417-4804-b134-c2b57a64dcba",
   "metadata": {},
   "source": [
    "# Challenges Faced"
   ]
  },
  {
   "cell_type": "markdown",
   "id": "b0f462bc-e62e-4495-bec8-667c3a80fe54",
   "metadata": {},
   "source": [
    "Class Imbalance:\n",
    "The dataset showed a slight imbalance between the \"Transported\" and \"Not Transported\" classes, with slightly more \"Transported\" passengers. While this didn’t severely affect the model’s performance, it could have impacted recall.\n",
    "Resolution: Techniques like class weighting or resampling could be applied in future iterations to address this.\n",
    "Model Performance:\n",
    "While the model performed reasonably well, recall for the \"Transported\" class was lower than expected. Some passengers who were actually transported were misclassified as not transported (false negatives).\n",
    "Resolution: This could be addressed by adjusting the classification threshold or experimenting with different models to improve recall.\n",
    "Hyperparameter Tuning:\n",
    "The model was trained using default hyperparameters. While it performed decently, there is room for improvement by optimizing hyperparameters using grid search or random search.\n"
   ]
  },
  {
   "cell_type": "markdown",
   "id": "5485ed6c-2577-438a-aaa1-12f9bb054f4d",
   "metadata": {},
   "source": [
    "# Insights gained"
   ]
  },
  {
   "cell_type": "markdown",
   "id": "10ca673a-40b4-4ab2-a72c-facaaae59860",
   "metadata": {},
   "source": [
    "Handling of Categorical Features:\n",
    "The Random Forest model demonstrated its capability to process categorical data effectively through one-hot encoding. Variables like HomePlanet and Deck were converted to numeric features, and the model utilized these to make accurate predictions. This reinforces the power of ensemble methods in handling diverse feature types without requiring complex transformations.\n",
    "Performance Across Classes:\n",
    "By evaluating both precision and recall, the model’s performance revealed that while precision for the \"Transported\" class was relatively high (82%), the recall for this class was lower (77%). This imbalance suggests that the model tended to miss some transported passengers, which can be problematic in situations where false negatives (missing transported passengers) are more costly. This insight can drive future efforts to optimize recall, especially for the minority class.\n",
    "Class Imbalance:\n",
    "The dataset had a slight imbalance between the \"Transported\" and \"Not Transported\" classes. Although this didn’t severely affect overall performance, the lower recall for the \"Transported\" class indicates that techniques to address class imbalance, such as class weighting or resampling, might be beneficial in improving the model's sensitivity toward the minority class.\n"
   ]
  },
  {
   "cell_type": "code",
   "execution_count": null,
   "id": "8ff07168-c860-473e-bb20-2a310bd03faa",
   "metadata": {},
   "outputs": [],
   "source": []
  }
 ],
 "metadata": {
  "kernelspec": {
   "display_name": "Python 3 (ipykernel)",
   "language": "python",
   "name": "python3"
  },
  "language_info": {
   "codemirror_mode": {
    "name": "ipython",
    "version": 3
   },
   "file_extension": ".py",
   "mimetype": "text/x-python",
   "name": "python",
   "nbconvert_exporter": "python",
   "pygments_lexer": "ipython3",
   "version": "3.12.4"
  }
 },
 "nbformat": 4,
 "nbformat_minor": 5
}
